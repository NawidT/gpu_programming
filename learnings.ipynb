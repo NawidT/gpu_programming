{
  "cells": [
    {
      "cell_type": "code",
      "execution_count": null,
      "metadata": {
        "id": "4MSXCSbp_Djn",
        "outputId": "5bbbf446-19cd-4812-af5e-709ffc1cfb78"
      },
      "outputs": [
        {
          "name": "stdout",
          "output_type": "stream",
          "text": [
            "Writing code.h\n"
          ]
        }
      ],
      "source": [
        "%%writefile code.h\n",
        "\n",
        "int multiply(int a, int b);"
      ]
    },
    {
      "cell_type": "code",
      "execution_count": null,
      "metadata": {
        "id": "3yuwWyPp_Djn",
        "outputId": "68d68d1b-e18e-4153-e7b1-52f0bda176f8"
      },
      "outputs": [
        {
          "name": "stdout",
          "output_type": "stream",
          "text": [
            "Writing code.cpp\n"
          ]
        }
      ],
      "source": [
        "%%writefile code.cpp\n",
        "\n",
        "#include \"code.h\"\n",
        "using namespace std;\n",
        "\n",
        "int multiply(int a, int b) {\n",
        "  return a * b;\n",
        "};"
      ]
    },
    {
      "cell_type": "code",
      "execution_count": null,
      "metadata": {
        "id": "Yjm_A-oA_Djn",
        "outputId": "b277070c-7e1e-4548-e1fe-277942f5f849"
      },
      "outputs": [
        {
          "name": "stdout",
          "output_type": "stream",
          "text": [
            "Writing main.cpp\n"
          ]
        }
      ],
      "source": [
        "%%writefile main.cpp\n",
        "\n",
        "#include <iostream>\n",
        "using namespace std\n",
        "#include \"code.h\"\n",
        "\n",
        "int main() {\n",
        "  cout << multiply(6,7) << '\\n';\n",
        "  return 0;\n",
        "};"
      ]
    },
    {
      "cell_type": "code",
      "execution_count": null,
      "metadata": {
        "id": "GAMLIr22_Djo",
        "outputId": "7268bfa0-0f4e-404c-87c8-eb1cd8cf2d47"
      },
      "outputs": [
        {
          "name": "stdout",
          "output_type": "stream",
          "text": [
            "\u001b[1mcode.cpp:3:17: \u001b[0m\u001b[0;1;35mwarning: \u001b[0m\u001b[1musing directive refers to implicitly-defined namespace 'std'\u001b[0m\n",
            "using namespace std;\n",
            "\u001b[0;1;32m                ^\n",
            "\u001b[0m1 warning generated.\n",
            "42\n"
          ]
        }
      ],
      "source": [
        "!g++ main.cpp code.cpp -o main\n",
        "!./main"
      ]
    },
    {
      "cell_type": "code",
      "execution_count": 23,
      "metadata": {
        "id": "nM-28pCv_Djo",
        "outputId": "1993b157-4c26-47ed-d094-0a2619984bd9",
        "colab": {
          "base_uri": "https://localhost:8080/"
        }
      },
      "outputs": [
        {
          "output_type": "stream",
          "name": "stdout",
          "text": [
            "nvcc: NVIDIA (R) Cuda compiler driver\n",
            "Copyright (c) 2005-2024 NVIDIA Corporation\n",
            "Built on Thu_Jun__6_02:18:23_PDT_2024\n",
            "Cuda compilation tools, release 12.5, V12.5.82\n",
            "Build cuda_12.5.r12.5/compiler.34385749_0\n"
          ]
        }
      ],
      "source": [
        "!nvcc --version"
      ]
    },
    {
      "cell_type": "code",
      "source": [
        "!pip install git+https://github.com/andreinechaev/nvcc4jupyter.git"
      ],
      "metadata": {
        "id": "EI3ZUYviAjaY",
        "outputId": "213234d6-c93a-43eb-eb2b-f2a672cc3cfa",
        "colab": {
          "base_uri": "https://localhost:8080/"
        }
      },
      "execution_count": 11,
      "outputs": [
        {
          "output_type": "stream",
          "name": "stdout",
          "text": [
            "Collecting git+https://github.com/andreinechaev/nvcc4jupyter.git\n",
            "  Cloning https://github.com/andreinechaev/nvcc4jupyter.git to /tmp/pip-req-build-0ql6lirp\n",
            "  Running command git clone --filter=blob:none --quiet https://github.com/andreinechaev/nvcc4jupyter.git /tmp/pip-req-build-0ql6lirp\n",
            "  Resolved https://github.com/andreinechaev/nvcc4jupyter.git to commit 28f872a2f99a1b201bcd0db14fdbc5a496b9bfd7\n",
            "  Installing build dependencies ... \u001b[?25l\u001b[?25hdone\n",
            "  Getting requirements to build wheel ... \u001b[?25l\u001b[?25hdone\n",
            "  Preparing metadata (pyproject.toml) ... \u001b[?25l\u001b[?25hdone\n"
          ]
        }
      ]
    },
    {
      "cell_type": "code",
      "source": [
        "%load_ext nvcc4jupyter"
      ],
      "metadata": {
        "id": "9m1PI-PLAv63",
        "outputId": "e3069b19-ad55-40c4-f8f1-a7b0abb9731c",
        "colab": {
          "base_uri": "https://localhost:8080/"
        }
      },
      "execution_count": 17,
      "outputs": [
        {
          "output_type": "stream",
          "name": "stdout",
          "text": [
            "The nvcc4jupyter extension is already loaded. To reload it, use:\n",
            "  %reload_ext nvcc4jupyter\n"
          ]
        }
      ]
    },
    {
      "cell_type": "code",
      "execution_count": 22,
      "metadata": {
        "id": "ukJ2Kbqw_Djo",
        "outputId": "fab2a3b5-8b37-4196-d60c-9d636dff5a08",
        "colab": {
          "base_uri": "https://localhost:8080/"
        }
      },
      "outputs": [
        {
          "output_type": "stream",
          "name": "stdout",
          "text": [
            "CUDA error the provided PTX was compiled with an unsupported toolchain.\n",
            "\n"
          ]
        }
      ],
      "source": [
        "%%cuda\n",
        "\n",
        "#include <cstdio>\n",
        "#define cudaCheckError() { cudaError_t e=cudaGetLastError(); if(e!=cudaSuccess) printf(\"CUDA error %s\\n\", cudaGetErrorString(e)); }\n",
        "\n",
        "__global__ void helloCUDA() {\n",
        "    printf(\"Hello from CUDA kernel cuda!\\n\");\n",
        "}\n",
        "\n",
        "int main() {\n",
        "\n",
        "    helloCUDA<<<1,1>>>();\n",
        "    cudaDeviceSynchronize();\n",
        "    cudaCheckError();\n",
        "\n",
        "    return 0;\n",
        "}"
      ]
    },
    {
      "cell_type": "code",
      "execution_count": 24,
      "metadata": {
        "id": "e61gUva7_Djo",
        "outputId": "33aa952f-af16-4126-9ad9-96a1a97ccaed",
        "colab": {
          "base_uri": "https://localhost:8080/"
        }
      },
      "outputs": [
        {
          "output_type": "stream",
          "name": "stdout",
          "text": [
            "Hello from CUDA kernel cuda!\n",
            "Hello from CUDA kernel cuda!\n",
            "Hello from CUDA kernel cuda!\n"
          ]
        }
      ],
      "source": [
        "!nvcc -arch=sm_75 test.cu -o test_cuda\n",
        "!./test_cuda"
      ]
    }
  ],
  "metadata": {
    "kernelspec": {
      "display_name": "Python 3",
      "name": "python3"
    },
    "language_info": {
      "codemirror_mode": {
        "name": "ipython",
        "version": 3
      },
      "file_extension": ".py",
      "mimetype": "text/x-python",
      "name": "python",
      "nbconvert_exporter": "python",
      "pygments_lexer": "ipython3",
      "version": "3.11.4"
    },
    "colab": {
      "provenance": [],
      "gpuType": "T4"
    },
    "accelerator": "GPU"
  },
  "nbformat": 4,
  "nbformat_minor": 0
}