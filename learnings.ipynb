{
  "cells": [
    {
      "cell_type": "markdown",
      "metadata": {
        "id": "view-in-github",
        "colab_type": "text"
      },
      "source": [
        "<a href=\"https://colab.research.google.com/github/NawidT/gpu_programming/blob/main/learnings.ipynb\" target=\"_parent\"><img src=\"https://colab.research.google.com/assets/colab-badge.svg\" alt=\"Open In Colab\"/></a>"
      ]
    },
    {
      "cell_type": "markdown",
      "source": [
        "## Pre-requisite Steps"
      ],
      "metadata": {
        "id": "2piikydjrCJu"
      }
    },
    {
      "cell_type": "code",
      "source": [
        "!pip install opencv-python-headless"
      ],
      "metadata": {
        "id": "HnNhvH2mrHOa",
        "outputId": "f328f44f-e2f0-406e-bcc2-d75d017fd8cb",
        "colab": {
          "base_uri": "https://localhost:8080/"
        }
      },
      "execution_count": 7,
      "outputs": [
        {
          "output_type": "stream",
          "name": "stdout",
          "text": [
            "Requirement already satisfied: opencv-python-headless in /usr/local/lib/python3.11/dist-packages (4.11.0.86)\n",
            "Requirement already satisfied: numpy>=1.21.2 in /usr/local/lib/python3.11/dist-packages (from opencv-python-headless) (1.26.4)\n"
          ]
        }
      ]
    },
    {
      "cell_type": "markdown",
      "source": [
        "Ensure the following writefile steps work in Google Colab"
      ],
      "metadata": {
        "id": "0NCsXmG5qvyP"
      }
    },
    {
      "cell_type": "code",
      "execution_count": null,
      "metadata": {
        "id": "4MSXCSbp_Djn",
        "outputId": "5bbbf446-19cd-4812-af5e-709ffc1cfb78"
      },
      "outputs": [
        {
          "name": "stdout",
          "output_type": "stream",
          "text": [
            "Writing code.h\n"
          ]
        }
      ],
      "source": [
        "%%writefile code.h\n",
        "\n",
        "int multiply(int a, int b);"
      ]
    },
    {
      "cell_type": "code",
      "execution_count": null,
      "metadata": {
        "id": "3yuwWyPp_Djn",
        "outputId": "68d68d1b-e18e-4153-e7b1-52f0bda176f8"
      },
      "outputs": [
        {
          "name": "stdout",
          "output_type": "stream",
          "text": [
            "Writing code.cpp\n"
          ]
        }
      ],
      "source": [
        "%%writefile code.cpp\n",
        "\n",
        "#include \"code.h\"\n",
        "using namespace std;\n",
        "\n",
        "int multiply(int a, int b) {\n",
        "  return a * b;\n",
        "};"
      ]
    },
    {
      "cell_type": "code",
      "execution_count": null,
      "metadata": {
        "id": "Yjm_A-oA_Djn",
        "outputId": "b277070c-7e1e-4548-e1fe-277942f5f849"
      },
      "outputs": [
        {
          "name": "stdout",
          "output_type": "stream",
          "text": [
            "Writing main.cpp\n"
          ]
        }
      ],
      "source": [
        "%%writefile main.cpp\n",
        "\n",
        "#include <iostream>\n",
        "using namespace std\n",
        "#include \"code.h\"\n",
        "\n",
        "int main() {\n",
        "  cout << multiply(6,7) << '\\n';\n",
        "  return 0;\n",
        "};"
      ]
    },
    {
      "cell_type": "code",
      "execution_count": 22,
      "metadata": {
        "colab": {
          "base_uri": "https://localhost:8080/"
        },
        "id": "GAMLIr22_Djo",
        "outputId": "25e0e9c6-9ee0-42bb-d372-00b9efe558b7"
      },
      "outputs": [
        {
          "output_type": "stream",
          "name": "stdout",
          "text": [
            "Mon Feb 17 20:47:35 2025       \n",
            "+-----------------------------------------------------------------------------------------+\n",
            "| NVIDIA-SMI 550.54.15              Driver Version: 550.54.15      CUDA Version: 12.4     |\n",
            "|-----------------------------------------+------------------------+----------------------+\n",
            "| GPU  Name                 Persistence-M | Bus-Id          Disp.A | Volatile Uncorr. ECC |\n",
            "| Fan  Temp   Perf          Pwr:Usage/Cap |           Memory-Usage | GPU-Util  Compute M. |\n",
            "|                                         |                        |               MIG M. |\n",
            "|=========================================+========================+======================|\n",
            "|   0  Tesla T4                       Off |   00000000:00:04.0 Off |                    0 |\n",
            "| N/A   40C    P8              9W /   70W |       0MiB /  15360MiB |      0%      Default |\n",
            "|                                         |                        |                  N/A |\n",
            "+-----------------------------------------+------------------------+----------------------+\n",
            "                                                                                         \n",
            "+-----------------------------------------------------------------------------------------+\n",
            "| Processes:                                                                              |\n",
            "|  GPU   GI   CI        PID   Type   Process name                              GPU Memory |\n",
            "|        ID   ID                                                               Usage      |\n",
            "|=========================================================================================|\n",
            "|  No running processes found                                                             |\n",
            "+-----------------------------------------------------------------------------------------+\n"
          ]
        }
      ],
      "source": [
        "!nvidia-smi"
      ]
    },
    {
      "cell_type": "code",
      "execution_count": 23,
      "metadata": {
        "colab": {
          "base_uri": "https://localhost:8080/"
        },
        "id": "nM-28pCv_Djo",
        "outputId": "1993b157-4c26-47ed-d094-0a2619984bd9"
      },
      "outputs": [
        {
          "output_type": "stream",
          "name": "stdout",
          "text": [
            "nvcc: NVIDIA (R) Cuda compiler driver\n",
            "Copyright (c) 2005-2024 NVIDIA Corporation\n",
            "Built on Thu_Jun__6_02:18:23_PDT_2024\n",
            "Cuda compilation tools, release 12.5, V12.5.82\n",
            "Build cuda_12.5.r12.5/compiler.34385749_0\n"
          ]
        }
      ],
      "source": [
        "!nvcc --version"
      ]
    },
    {
      "cell_type": "markdown",
      "source": [
        "## Vector Mathematics Optimization Examples"
      ],
      "metadata": {
        "id": "U3TEvwqSql9Y"
      }
    },
    {
      "cell_type": "code",
      "execution_count": 25,
      "metadata": {
        "colab": {
          "base_uri": "https://localhost:8080/"
        },
        "id": "ukJ2Kbqw_Djo",
        "outputId": "9b709bc7-2bc1-4aa3-ffcb-965dd19ebc24"
      },
      "outputs": [
        {
          "output_type": "stream",
          "name": "stdout",
          "text": [
            "Overwriting test.cu\n"
          ]
        }
      ],
      "source": [
        "%%writefile test.cu\n",
        "\n",
        "#include <cstdio>\n",
        "#define cudaCheckError() { cudaError_t e=cudaGetLastError(); if(e!=cudaSuccess) printf(\"CUDA error %s\\n\", cudaGetErrorString(e)); }\n",
        "\n",
        "__global__ void helloCUDA() {\n",
        "    printf(\"Hello from CUDA kernel cuda!\\n\");\n",
        "}\n",
        "\n",
        "int main() {\n",
        "    helloCUDA<<<1,1>>>();\n",
        "    cudaDeviceSynchronize();\n",
        "    cudaCheckError();\n",
        "    return 0;\n",
        "}"
      ]
    },
    {
      "cell_type": "code",
      "execution_count": 27,
      "metadata": {
        "colab": {
          "base_uri": "https://localhost:8080/"
        },
        "id": "e61gUva7_Djo",
        "outputId": "b607115e-998b-4118-8b62-0c691ebf0b3e"
      },
      "outputs": [
        {
          "output_type": "stream",
          "name": "stdout",
          "text": [
            "Hello from CUDA kernel cuda!\n"
          ]
        }
      ],
      "source": [
        "!nvcc -arch=sm_75 test.cu -o test_cuda\n",
        "!./test_cuda"
      ]
    },
    {
      "cell_type": "code",
      "source": [
        "%%writefile streaming.cu\n",
        "\n",
        "\n",
        "#include <cuda_runtime.h>\n",
        "#include <stdio.h>\n",
        "\n",
        "__global__ void vectorAdd(const float *A, const float *B, float *C, int numElems) {\n",
        "    // conditional in place when num threads exceed needed operations.\n",
        "    // E.g 256 threads/block * 4 blocks = 1024 threads, but only 1000 needed\n",
        "    // Extra 24 threads will be ignored\n",
        "    if (threadIdx.x >= numElems) {\n",
        "        return;\n",
        "    }\n",
        "    for (int i = 0; i < numElems; i++) {\n",
        "      C[i] = A[i] + B[i];\n",
        "    }\n",
        "}\n",
        "\n",
        "int main() {\n",
        "    // PROBLEM: optimize a large vector addition process using streaming and paralellism\n",
        "\n",
        "    // currently in realms of host (CPU) so can use non-cuda operations\n",
        "    int numRows = 50000;\n",
        "    size_t size = numRows * sizeof(float);\n",
        "    float *h_A, *h_B, *h_C;\n",
        "\n",
        "    // Allocate host memory\n",
        "    h_A = (float *) malloc(size);\n",
        "    h_B = (float *) malloc(size);\n",
        "    h_C = (float *) malloc(size);\n",
        "\n",
        "    // Initialize host arrays\n",
        "    for (int i = 0; i < numRows; ++i) {\n",
        "        h_A[i] = rand() / (float)RAND_MAX;\n",
        "        h_B[i] = rand() / (float)RAND_MAX;\n",
        "    }\n",
        "\n",
        "    // Allocate memory for device arrays\n",
        "    float *d_A, *d_B, *d_C;\n",
        "    cudaMalloc(&d_A, size);\n",
        "    cudaMalloc(&d_B, size);\n",
        "    cudaMalloc(&d_C, size);\n",
        "\n",
        "    // create streams to async-ly copy data to device\n",
        "    cudaStream_t stream1, stream2;\n",
        "\n",
        "    cudaStreamCreate(&stream1);\n",
        "    cudaStreamCreate(&stream2);\n",
        "\n",
        "    cudaMemcpyAsync(d_A, h_A, size, cudaMemcpyHostToDevice, stream1);\n",
        "    cudaMemcpyAsync(d_B, h_B, size, cudaMemcpyHostToDevice, stream2);\n",
        "\n",
        "    // Launch kernel<<<blocksPerGrid, threadsPerBlock, 0, stream1>>>(d_A, d_B, d_C, numRows);\n",
        "    int threadsPerBlock = 256;\n",
        "    int blocksPerGrid = (numRows + threadsPerBlock - 1) / threadsPerBlock;\n",
        "    vectorAdd<<<blocksPerGrid, threadsPerBlock>>>(h_A, h_B, h_C, size);\n",
        "\n",
        "\n",
        "    // copy data back to host\n",
        "    cudaMemcpyAsync(h_C, d_C, size, cudaMemcpyDeviceToHost, stream1);\n",
        "\n",
        "    // clean up\n",
        "    cudaFree(d_A);\n",
        "    cudaFree(d_B);\n",
        "    cudaFree(d_C);\n",
        "\n",
        "    free(h_A);\n",
        "    free(h_B);\n",
        "    free(h_C);\n",
        "\n",
        "};\n",
        "\n"
      ],
      "metadata": {
        "colab": {
          "base_uri": "https://localhost:8080/"
        },
        "id": "qCi8Wf3JJIYl",
        "outputId": "ec67d34c-3c8e-449f-a1c4-713c6e1fe3c5"
      },
      "execution_count": 1,
      "outputs": [
        {
          "output_type": "stream",
          "name": "stdout",
          "text": [
            "Writing streaming.cu\n"
          ]
        }
      ]
    },
    {
      "cell_type": "code",
      "source": [
        "!nvcc -arch=sm_75 streaming.cu -o stream\n",
        "!./stream"
      ],
      "metadata": {
        "id": "RbBfNGp1KWAi"
      },
      "execution_count": 2,
      "outputs": []
    },
    {
      "cell_type": "markdown",
      "source": [
        "## Computer Vision Optimization Examples"
      ],
      "metadata": {
        "id": "tfsu8xgJqPvf"
      }
    },
    {
      "cell_type": "markdown",
      "source": [
        "# Applying Filters"
      ],
      "metadata": {
        "id": "g8tPbjndqUlo"
      }
    },
    {
      "cell_type": "code",
      "source": [
        "%%writefile image_cv_ops.cu\n",
        "\n",
        "#include <cuda_runtime.h>\n",
        "#include <stdio.h>\n",
        "#include <fstream>\n",
        "#include <opencv2/opencv.hpp>\n",
        "#include <iostream>\n",
        "#include <cstdlib>\n",
        "\n",
        "__global__ void apply_gaussian_blur(const float *image, float *out_image, int height, int width) {\n",
        "    // conditional in place when num threads exceed needed operations.\n",
        "\n",
        "    int x = blockIdx.x * blockDim.x + threadIdx.x;\n",
        "    int y = blockIdx.y * blockDim.y + threadIdx.y;\n",
        "\n",
        "    if (x >= width || y >= height) {\n",
        "      return;\n",
        "    }\n",
        "\n",
        "    int pixel_index = y * width + x;\n",
        "\n",
        "    // create the gaussian kernel\n",
        "    float kernel[3][3] = {\n",
        "        {1.0/16, 2.0/16, 1.0/16},\n",
        "        {2.0/16, 4.0/16, 2.0/16},\n",
        "        {1.0/16, 2.0/16, 1.0/16}\n",
        "    };\n",
        "\n",
        "    // apply blur to image, pasting to out_image\n",
        "    int half_kernel_size = 1;\n",
        "    float sum = 0.0f;\n",
        "\n",
        "    for (int i = -half_kernel_size; i <= half_kernel_size; i++) {\n",
        "        for (int j = -half_kernel_size; j <= half_kernel_size; j++) {\n",
        "            int neighbor_x = x + j;\n",
        "            int neighbor_y = y + i;\n",
        "            // Check for image edge conditions\n",
        "            if (neighbor_x >= 0 && neighbor_x < width && neighbor_y >= 0 && neighbor_y < height) {\n",
        "                int neighbor_index = neighbor_y * width + neighbor_x;\n",
        "                sum += image[neighbor_index] * kernel[i + half_kernel_size][j + half_kernel_size];\n",
        "            }\n",
        "        }\n",
        "    }\n",
        "    out_image[pixel_index] = sum;\n",
        "}\n",
        "\n",
        "void run_gaussian_blur(const float *image, float *out_image, int height, int width) {\n",
        "    // copy image to VRAM (shared memory)\n",
        "    int num_pixels = height * width;\n",
        "    size_t size_pixels = num_pixels * sizeof(float);\n",
        "    float* d_image, *d_out_image;\n",
        "    cudaMalloc(&d_image, size_pixels);\n",
        "    cudaMalloc(&d_out_image, size_pixels);\n",
        "    cudaMemcpy(d_image, image, size_pixels, cudaMemcpyHostToDevice);\n",
        "\n",
        "    // TODO: apply gaussian blur to image\n",
        "\n",
        "    dim3 block(32, 32);\n",
        "    dim3 grid((width + block.x - 1) / block.x, (height + block.y - 1) / block.y);\n",
        "\n",
        "    apply_gaussian_blur<<<grid, block>>>(d_image, d_out_image, height, width);\n",
        "\n",
        "    // copy image back to host\n",
        "    cudaMemcpy(out_image, d_out_image, size_pixels, cudaMemcpyDeviceToHost);\n",
        "\n",
        "    // clean up\n",
        "    cudaFree(d_image);\n",
        "    cudaFree(d_out_image);\n",
        "}\n",
        "\n",
        "int main() {\n",
        "   // open image using cv::imread()\n",
        "   cv::Mat image = cv::imread(\"1b_cat.bmp\", cv::IMREAD_GRAYSCALE);\n",
        "   if (image.empty()) {\n",
        "       printf(\"Could not open or find the image\\n\");\n",
        "       return -1;\n",
        "   }\n",
        "\n",
        "\n",
        "   int num_pixels = image.rows * image.cols;\n",
        "   float *h_image = (float*) malloc(num_pixels * sizeof(float));;\n",
        "   float *h_out_image = (float*) malloc(num_pixels * sizeof(float));\n",
        "\n",
        "   // Convert the image data from uchar to float.\n",
        "   for (int i = 0; i < num_pixels; ++i) {\n",
        "      h_image[i] = static_cast<float>(image.data[i]);\n",
        "    }\n",
        "\n",
        "   printf(\"number of pixels are %d \\n\", num_pixels);\n",
        "\n",
        "   // apply gaussian blur to image\n",
        "   run_gaussian_blur(h_image, h_out_image, image.rows, image.cols);\n",
        "\n",
        "   // convert the output image back to cv::Mat\n",
        "   cv::Mat out_image_mat(image.size(), CV_32F, h_out_image);\n",
        "   cv::Mat out_image_8U;\n",
        "   out_image_mat.convertTo(out_image_8U, CV_8U);\n",
        "   cv::imwrite(\"blurred_image.jpg\", out_image_8U);\n",
        "\n",
        "   // clean up\n",
        "   free(h_out_image);\n",
        "   return 0;\n",
        "}"
      ],
      "metadata": {
        "colab": {
          "base_uri": "https://localhost:8080/"
        },
        "id": "eKjXafKJ6iGk",
        "outputId": "3b6dfc4d-435e-457f-c24d-8c11fb0b2695"
      },
      "execution_count": 20,
      "outputs": [
        {
          "output_type": "stream",
          "name": "stdout",
          "text": [
            "Overwriting image_cv_ops.cu\n"
          ]
        }
      ]
    },
    {
      "cell_type": "code",
      "source": [
        "!nvcc -arch=sm_75 image_cv_ops.cu -I/usr/include/opencv4 -L/usr/lib -lopencv_core -lopencv_imgcodecs -lopencv_highgui -lopencv_imgproc -o cv_ops\n",
        "!./cv_ops"
      ],
      "metadata": {
        "colab": {
          "base_uri": "https://localhost:8080/"
        },
        "id": "gpZvcK7E68W_",
        "outputId": "61836a4a-0653-4ee8-c6f3-e7400354f7ac"
      },
      "execution_count": 21,
      "outputs": [
        {
          "output_type": "stream",
          "name": "stdout",
          "text": [
            "\u001b[01m\u001b[0m\u001b[01m/usr/include/opencv4/opencv2/stitching/detail/warpers.hpp(235)\u001b[0m: \u001b[01;35mwarning\u001b[0m #611-D: overloaded virtual function \u001b[01m\"cv::detail::PlaneWarper::buildMaps\"\u001b[0m is only partially overridden in class \u001b[01m\"cv::detail::AffineWarper\"\u001b[0m\n",
            "  class AffineWarper : public PlaneWarper\n",
            "        ^\n",
            "\n",
            "\u001b[01;36m\u001b[0m\u001b[01;36mRemark\u001b[0m: The warnings can be suppressed with \"-diag-suppress <warning-number>\"\n",
            "\n",
            "\u001b[01m\u001b[0m\u001b[01m/usr/include/opencv4/opencv2/stitching/detail/warpers.hpp(235)\u001b[0m: \u001b[01;35mwarning\u001b[0m #611-D: overloaded virtual function \u001b[01m\"cv::detail::PlaneWarper::warp\"\u001b[0m is only partially overridden in class \u001b[01m\"cv::detail::AffineWarper\"\u001b[0m\n",
            "  class AffineWarper : public PlaneWarper\n",
            "        ^\n",
            "\n",
            "\u001b[01m\u001b[0m\u001b[01m/usr/include/opencv4/opencv2/stitching/detail/blenders.hpp(100)\u001b[0m: \u001b[01;35mwarning\u001b[0m #611-D: overloaded virtual function \u001b[01m\"cv::detail::Blender::prepare\"\u001b[0m is only partially overridden in class \u001b[01m\"cv::detail::FeatherBlender\"\u001b[0m\n",
            "  class FeatherBlender : public Blender\n",
            "        ^\n",
            "\n",
            "\u001b[01m\u001b[0m\u001b[01m/usr/include/opencv4/opencv2/stitching/detail/blenders.hpp(127)\u001b[0m: \u001b[01;35mwarning\u001b[0m #611-D: overloaded virtual function \u001b[01m\"cv::detail::Blender::prepare\"\u001b[0m is only partially overridden in class \u001b[01m\"cv::detail::MultiBandBlender\"\u001b[0m\n",
            "  class MultiBandBlender : public Blender\n",
            "        ^\n",
            "\n",
            "\u001b[01m\u001b[0m\u001b[01m/usr/include/opencv4/opencv2/stitching/detail/warpers.hpp(235)\u001b[0m: \u001b[01;35mwarning\u001b[0m #611-D: overloaded virtual function \u001b[01m\"cv::detail::PlaneWarper::buildMaps\"\u001b[0m is only partially overridden in class \u001b[01m\"cv::detail::AffineWarper\"\u001b[0m\n",
            "  class AffineWarper : public PlaneWarper\n",
            "        ^\n",
            "\n",
            "\u001b[01;36m\u001b[0m\u001b[01;36mRemark\u001b[0m: The warnings can be suppressed with \"-diag-suppress <warning-number>\"\n",
            "\n",
            "\u001b[01m\u001b[0m\u001b[01m/usr/include/opencv4/opencv2/stitching/detail/warpers.hpp(235)\u001b[0m: \u001b[01;35mwarning\u001b[0m #611-D: overloaded virtual function \u001b[01m\"cv::detail::PlaneWarper::warp\"\u001b[0m is only partially overridden in class \u001b[01m\"cv::detail::AffineWarper\"\u001b[0m\n",
            "  class AffineWarper : public PlaneWarper\n",
            "        ^\n",
            "\n",
            "\u001b[01m\u001b[0m\u001b[01m/usr/include/opencv4/opencv2/stitching/detail/blenders.hpp(100)\u001b[0m: \u001b[01;35mwarning\u001b[0m #611-D: overloaded virtual function \u001b[01m\"cv::detail::Blender::prepare\"\u001b[0m is only partially overridden in class \u001b[01m\"cv::detail::FeatherBlender\"\u001b[0m\n",
            "  class FeatherBlender : public Blender\n",
            "        ^\n",
            "\n",
            "\u001b[01m\u001b[0m\u001b[01m/usr/include/opencv4/opencv2/stitching/detail/blenders.hpp(127)\u001b[0m: \u001b[01;35mwarning\u001b[0m #611-D: overloaded virtual function \u001b[01m\"cv::detail::Blender::prepare\"\u001b[0m is only partially overridden in class \u001b[01m\"cv::detail::MultiBandBlender\"\u001b[0m\n",
            "  class MultiBandBlender : public Blender\n",
            "        ^\n",
            "\n",
            "number of pixels are 148010 \n"
          ]
        }
      ]
    }
  ],
  "metadata": {
    "kernelspec": {
      "display_name": "Python 3",
      "name": "python3"
    },
    "language_info": {
      "codemirror_mode": {
        "name": "ipython",
        "version": 3
      },
      "file_extension": ".py",
      "mimetype": "text/x-python",
      "name": "python",
      "nbconvert_exporter": "python",
      "pygments_lexer": "ipython3",
      "version": "3.11.4"
    },
    "colab": {
      "provenance": [],
      "gpuType": "T4",
      "include_colab_link": true
    },
    "accelerator": "GPU"
  },
  "nbformat": 4,
  "nbformat_minor": 0
}