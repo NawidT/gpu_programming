{
 "cells": [
  {
   "cell_type": "code",
   "execution_count": 1,
   "metadata": {},
   "outputs": [
    {
     "name": "stdout",
     "output_type": "stream",
     "text": [
      "Writing code.h\n"
     ]
    }
   ],
   "source": [
    "%%writefile code.h\n",
    "\n",
    "int multiply(int a, int b);"
   ]
  },
  {
   "cell_type": "code",
   "execution_count": 2,
   "metadata": {},
   "outputs": [
    {
     "name": "stdout",
     "output_type": "stream",
     "text": [
      "Writing code.cpp\n"
     ]
    }
   ],
   "source": [
    "%%writefile code.cpp\n",
    "\n",
    "#include \"code.h\"\n",
    "using namespace std;\n",
    "\n",
    "int multiply(int a, int b) {\n",
    "  return a * b;\n",
    "};"
   ]
  },
  {
   "cell_type": "code",
   "execution_count": null,
   "metadata": {},
   "outputs": [
    {
     "name": "stdout",
     "output_type": "stream",
     "text": [
      "Writing main.cpp\n"
     ]
    }
   ],
   "source": [
    "%%writefile main.cpp\n",
    "\n",
    "#include <iostream>\n",
    "using namespace std\n",
    "#include \"code.h\"\n",
    "\n",
    "int main() {\n",
    "  cout << multiply(6,7) << '\\n';\n",
    "  return 0;\n",
    "};"
   ]
  },
  {
   "cell_type": "code",
   "execution_count": 4,
   "metadata": {},
   "outputs": [
    {
     "name": "stdout",
     "output_type": "stream",
     "text": [
      "\u001b[1mcode.cpp:3:17: \u001b[0m\u001b[0;1;35mwarning: \u001b[0m\u001b[1musing directive refers to implicitly-defined namespace 'std'\u001b[0m\n",
      "using namespace std;\n",
      "\u001b[0;1;32m                ^\n",
      "\u001b[0m1 warning generated.\n",
      "42\n"
     ]
    }
   ],
   "source": [
    "!g++ main.cpp code.cpp -o main\n",
    "!./main"
   ]
  },
  {
   "cell_type": "code",
   "execution_count": null,
   "metadata": {},
   "outputs": [
    {
     "name": "stdout",
     "output_type": "stream",
     "text": [
      "zsh:1: command not found: nvidia-smi\n"
     ]
    }
   ],
   "source": [
    "!nvidia-smi"
   ]
  },
  {
   "cell_type": "code",
   "execution_count": 8,
   "metadata": {},
   "outputs": [
    {
     "name": "stdout",
     "output_type": "stream",
     "text": [
      "Overwriting test.cu\n"
     ]
    }
   ],
   "source": [
    "%%writefile test.cu\n",
    "\n",
    "#include <cstdio>\n",
    "\n",
    "__global__ void helloCUDA() {\n",
    "    printf(\"Hello from CUDA kernel cuda!\\n\");\n",
    "}\n",
    "\n",
    "int main() {\n",
    "    printf(\"Hello from CUDA kernel cuda!\\n\");\n",
    "    helloCUDA<<<1,1>>>();\n",
    "    cudaDeviceSynchronize();\n",
    "    printf(\"Hello from CUDA kernel cuda!\\n\");\n",
    "    return 0;\n",
    "}"
   ]
  },
  {
   "cell_type": "code",
   "execution_count": 9,
   "metadata": {},
   "outputs": [
    {
     "name": "stdout",
     "output_type": "stream",
     "text": [
      "zsh:1: command not found: nvcc\n",
      "zsh:1: no such file or directory: ./test_cuda\n"
     ]
    }
   ],
   "source": [
    "!nvcc test.cu -o test_cuda\n",
    "!./test_cuda"
   ]
  }
 ],
 "metadata": {
  "kernelspec": {
   "display_name": "Python 3",
   "language": "python",
   "name": "python3"
  },
  "language_info": {
   "codemirror_mode": {
    "name": "ipython",
    "version": 3
   },
   "file_extension": ".py",
   "mimetype": "text/x-python",
   "name": "python",
   "nbconvert_exporter": "python",
   "pygments_lexer": "ipython3",
   "version": "3.11.4"
  }
 },
 "nbformat": 4,
 "nbformat_minor": 2
}
